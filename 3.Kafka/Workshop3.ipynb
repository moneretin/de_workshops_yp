{
 "cells": [
  {
   "cell_type": "markdown",
   "id": "fcc761a8",
   "metadata": {
    "pycharm": {
     "name": "#%% md\n"
    }
   },
   "source": [
    "# Workshop №3"
   ]
  },
  {
   "cell_type": "markdown",
   "id": "1f18fd07",
   "metadata": {
    "pycharm": {
     "name": "#%% md\n"
    }
   },
   "source": [
    "### Содержание тетрадки\n",
    "\n",
    "1. [Функция получения данныx от API](#first)\n",
    "2. [Функция создания топика для Kafka](#second)\n",
    "3. [Функция для callback](#third)\n",
    "4. [Запись данных в Kafka](#fourth)\n",
    "    1. [Запись данных в топик без ключа](#fourthFirst)\n",
    "    2. [Запись данных в топика с ключом](#fourthSecond)\n",
    "5. [Чтение данных из Kafka](#fifth)\n",
    "    1. [Чтение данных из топик без ключа](#fifthFirst)\n",
    "    2. [Чтение данных из топика с ключом](#fifthSecond)\n",
    "6. [Работа с Kafka в Avro формате](#sixth)\n",
    "    1. [Запись данных в топик в формате avro без ключа](#sixthFirst)\n",
    "    2. [Запись данных в топик в формате avro c ключом](#sixthSecond)\n",
    "    3. [Чтение данных из топика в формате avro без ключа](#sixthThird)\n",
    "    4. [Чтение данных из топика в формате avro  ключом](#sixthFourth)"
   ]
  },
  {
   "cell_type": "markdown",
   "id": "01cfb2ac",
   "metadata": {
    "pycharm": {
     "name": "#%% md\n"
    }
   },
   "source": [
    "Убедитесь, что у вас установлена библиотека [librdkafka](https://github.com/edenhill/librdkafka), так как она требуется для питонячей библиотеки **confluent_kafka**"
   ]
  },
  {
   "cell_type": "markdown",
   "id": "b120456d",
   "metadata": {
    "pycharm": {
     "name": "#%% md\n"
    }
   },
   "source": [
    "Если у вас **mac**, то возможно он на найдет путей до этой библиотеки, поэтому придется устанавливать либу с указанием путей для librdkafka (версия librdkafka может отличаться)\n",
    "```\n",
    "'C_INCLUDE_PATH=/opt/homebrew/Cellar/librdkafka/1.9.1/include\n",
    "LIBRARY_PATH=/opt/homebrew/Cellar/librdkafka/1.9.1/lib\n",
    "pip install confluent_kafka[avro]'\n",
    "```"
   ]
  },
  {
   "cell_type": "code",
   "execution_count": null,
   "id": "4264abc7",
   "metadata": {
    "pycharm": {
     "name": "#%%\n"
    }
   },
   "outputs": [],
   "source": [
    "import json\n",
    "import logging as log\n",
    "import time\n",
    "from typing import Optional, Final\n",
    "\n",
    "import requests\n",
    "from confluent_kafka import avro\n",
    "from confluent_kafka import Consumer, Producer\n",
    "from confluent_kafka.admin import AdminClient, NewTopic\n",
    "from confluent_kafka.avro import AvroProducer, AvroConsumer\n",
    "from confluent_kafka.avro.serializer import SerializerError"
   ]
  },
  {
   "cell_type": "markdown",
   "id": "7b43ae6a",
   "metadata": {
    "pycharm": {
     "name": "#%% md\n"
    }
   },
   "source": [
    "---\n",
    "## Функция получения данныx от API <a id=\"first\"></a>\n",
    "---"
   ]
  },
  {
   "cell_type": "markdown",
   "id": "20fec4f2",
   "metadata": {
    "pycharm": {
     "name": "#%% md\n"
    }
   },
   "source": [
    "https://exchangerate.host/#/docs - ссылка на апишку\n",
    "\n",
    "На предыдущем воркшопе мы анализировали апишку. Функция будет забирать данные за временной интервал."
   ]
  },
  {
   "cell_type": "code",
   "execution_count": null,
   "id": "05bd1922",
   "metadata": {
    "pycharm": {
     "name": "#%%\n"
    }
   },
   "outputs": [],
   "source": [
    "def get_currency_rate_info(source_currency: str, target_currency: str,\n",
    "                           start_date: Optional[str] = None,\n",
    "                           end_date: Optional[str] = None) -> dict:\n",
    "    \"\"\"\n",
    "    Get currency rate information about pair\n",
    "\n",
    "    :param source_currency: source currency\n",
    "    :param target_currency: target currency\n",
    "    :param start_date: start date for uploading data. Default: None\n",
    "    :param end_date: end date for uploading data. Default: None\n",
    "    \n",
    "    :return data: information about rate of pair\n",
    "    \"\"\"\n",
    "    params: dict = {'base': source_currency, 'symbols': target_currency}\n",
    "    url: str = f'https://api.exchangerate.host/timeseries?start_date={start_date}&end_date={end_date}'\n",
    "\n",
    "    try:\n",
    "        response = requests.get(url, params=params)\n",
    "        data = response.json()\n",
    "    except Exception as ex:\n",
    "        print(f'Unable get currency rate info. Error: {ex}')\n",
    "        raise ex\n",
    "\n",
    "    return data"
   ]
  },
  {
   "cell_type": "markdown",
   "id": "766605e9",
   "metadata": {
    "pycharm": {
     "name": "#%% md\n"
    }
   },
   "source": [
    "Заберем данные"
   ]
  },
  {
   "cell_type": "code",
   "execution_count": null,
   "id": "01116a71",
   "metadata": {
    "pycharm": {
     "name": "#%%\n"
    }
   },
   "outputs": [],
   "source": [
    "data = get_currency_rate_info('USD', 'RUB', '2022-03-01', '2022-03-10')\n",
    "data['rates']"
   ]
  },
  {
   "cell_type": "markdown",
   "id": "a0a82fbe",
   "metadata": {
    "pycharm": {
     "name": "#%% md\n"
    }
   },
   "source": [
    "---\n",
    "## Функция создания топика для Kafka<a id=\"second\"></a>\n",
    "---"
   ]
  },
  {
   "cell_type": "markdown",
   "id": "8274e67e",
   "metadata": {
    "pycharm": {
     "name": "#%% md\n"
    }
   },
   "source": [
    "Для того чтобы записать данные в Kafka, нам нужно сначала создать топик в Kafka."
   ]
  },
  {
   "cell_type": "code",
   "execution_count": null,
   "id": "cf3a664b",
   "metadata": {
    "pycharm": {
     "name": "#%%\n"
    }
   },
   "outputs": [],
   "source": [
    "def create_kafka_topic(broker: str, topic: str, partitions: int, relicas: int) -> None:\n",
    "    \"\"\"\n",
    "    Create topic in Kafka\n",
    "\n",
    "    :param borker: Broker name\n",
    "    :param topic: Topic name\n",
    "    :param partitions: Number of partitions\n",
    "    :param relicas: Number of replicas\n",
    "    \n",
    "    :return \n",
    "    \"\"\"\n",
    "    kafka_client = AdminClient({'bootstrap.servers': broker})\n",
    "    new_topic = [NewTopic(topic, num_partitions=partitions, replication_factor=relicas)]\n",
    "    \n",
    "    try:\n",
    "        kafka_client.create_topics(new_topic)\n",
    "        print('Topic created')\n",
    "    except Exception as ex:\n",
    "        print(f'Failed to create topic. Error {ex}')"
   ]
  },
  {
   "cell_type": "code",
   "execution_count": null,
   "id": "02d48704",
   "metadata": {
    "pycharm": {
     "name": "#%%\n"
    }
   },
   "outputs": [],
   "source": [
    "create_kafka_topic('0.0.0.0:9092', 'json_topic_with_value', 3, 1)"
   ]
  },
  {
   "cell_type": "markdown",
   "id": "96bf7f57",
   "metadata": {
    "pycharm": {
     "name": "#%% md\n"
    }
   },
   "source": [
    "---\n",
    "## Функция для callback <a id=\"third\"></a>\n",
    "---"
   ]
  },
  {
   "cell_type": "markdown",
   "id": "dc136336",
   "metadata": {
    "pycharm": {
     "name": "#%% md\n"
    }
   },
   "source": [
    "Поскольку отправка идет асинхронная, то лучше вызывать функцию, которая будет сообщать нам о том, доставлено сообщение или нет."
   ]
  },
  {
   "cell_type": "code",
   "execution_count": null,
   "id": "12e4ced4",
   "metadata": {
    "pycharm": {
     "name": "#%%\n"
    }
   },
   "outputs": [],
   "source": [
    "def delivery_report(err, msg):\n",
    "    \"\"\" \n",
    "    Called once for each message produced to indicate delivery result. Triggered by poll() or flush()\n",
    "    :param err: Error info\n",
    "    :param msg: Message info\n",
    "    \"\"\"\n",
    "    if err is None:\n",
    "        print(f'Message delivered to topic {msg.topic()} in partition [{msg.partition()}]')\n",
    "    else:\n",
    "        print(f'Message delivery failed: {err}')\n",
    "        raise Exception('Error occurred while sending messages')"
   ]
  },
  {
   "cell_type": "markdown",
   "id": "77abe1d7",
   "metadata": {
    "pycharm": {
     "name": "#%% md\n"
    }
   },
   "source": [
    "---\n",
    "## Запись данных в Kafka<a id=\"fourth\"></a>\n",
    "---"
   ]
  },
  {
   "cell_type": "markdown",
   "id": "8df47d26",
   "metadata": {
    "pycharm": {
     "name": "#%% md\n"
    }
   },
   "source": [
    "Теперь запишем данные в топик. В топик данные можно по-разному записывать. Главная базовая единица в топике - это сообщение.\n",
    "В сообщение можно отправить файл, а можно только кусочек файла. Кусочек файла - предпочтительнее, так как кафка как раз для этого и создана."
   ]
  },
  {
   "cell_type": "markdown",
   "id": "8ba01ef2",
   "metadata": {
    "pycharm": {
     "name": "#%% md\n"
    }
   },
   "source": [
    "#### Запись данных в топик без ключа<a id=\"fourthFirst\"></a> "
   ]
  },
  {
   "cell_type": "markdown",
   "id": "13f94122",
   "metadata": {
    "pycharm": {
     "name": "#%% md\n"
    }
   },
   "source": [
    "Попробуем писать вот такими порциями:\n",
    "```\n",
    "Value = ['2022-03-01': {'RUB': 108.495351}]\n",
    "```"
   ]
  },
  {
   "cell_type": "code",
   "execution_count": null,
   "id": "4b3230a1",
   "metadata": {
    "pycharm": {
     "name": "#%%\n"
    }
   },
   "outputs": [],
   "source": [
    "producer = Producer({'bootstrap.servers': '0.0.0.0:9092'})\n",
    "\n",
    "for item in data['rates'].items():\n",
    "    message = json.dumps(item).encode('utf-8')\n",
    "    while True:\n",
    "        try:\n",
    "            producer.poll(0)\n",
    "            producer.produce('json_topic_with_value', value=message, callback=delivery_report)\n",
    "            break\n",
    "        except BufferError as err:\n",
    "            print(f'Kafka error: {err}. Waiting one second.')\n",
    "            producer.poll(1)\n",
    "            \n",
    "producer.flush()\n",
    "print('Data sent to Kafka')"
   ]
  },
  {
   "cell_type": "markdown",
   "id": "53bada67",
   "metadata": {
    "pycharm": {
     "name": "#%% md\n"
    }
   },
   "source": [
    "#### Запись данных в топик с ключом<a id=\"fourthSecond\"></a> "
   ]
  },
  {
   "cell_type": "markdown",
   "id": "535b0580",
   "metadata": {
    "pycharm": {
     "name": "#%% md\n"
    }
   },
   "source": [
    "В Kafka можно писать данные с ключом, чтобы можно было понять, к чему относится сообщение. В нашем случае, ключом будет выступать дата курса. \n",
    "```\n",
    "Key = '2022-03-01', Value = {'RUB': 108.495351}\n",
    "```"
   ]
  },
  {
   "cell_type": "code",
   "execution_count": null,
   "id": "e1ac428a",
   "metadata": {
    "pycharm": {
     "name": "#%%\n"
    }
   },
   "outputs": [],
   "source": [
    "create_kafka_topic('0.0.0.0:9092', 'json_topic_with_key_value', 3, 1)"
   ]
  },
  {
   "cell_type": "code",
   "execution_count": null,
   "id": "ba6e1d34",
   "metadata": {
    "pycharm": {
     "name": "#%%\n"
    }
   },
   "outputs": [],
   "source": [
    "producer = Producer({'bootstrap.servers': '0.0.0.0:9092'})\n",
    "\n",
    "for key, value in data['rates'].items():\n",
    "    message = json.dumps(value).encode('utf-8')\n",
    "    while True:\n",
    "        try:\n",
    "            producer.poll(0)\n",
    "            producer.produce('json_topic_with_key_value', key=key, value=message, callback=delivery_report)\n",
    "            break\n",
    "        except BufferError as err:\n",
    "            print(f'Kafka error: {err}. Waiting one second.')\n",
    "            producer.poll(1)\n",
    "            \n",
    "producer.flush()\n",
    "print('Data sent to Kafka')"
   ]
  },
  {
   "cell_type": "markdown",
   "id": "056c540a",
   "metadata": {
    "pycharm": {
     "name": "#%% md\n"
    }
   },
   "source": [
    "---\n",
    "##  Чтение данных из Kafka<a id=\"fifth\"></a>\n",
    "---"
   ]
  },
  {
   "cell_type": "markdown",
   "id": "e5a1df08",
   "metadata": {
    "pycharm": {
     "name": "#%% md\n"
    }
   },
   "source": [
    "### Чтение данных из топика без ключа<a id=\"fifthFirst\"></a> "
   ]
  },
  {
   "cell_type": "code",
   "execution_count": null,
   "id": "57ee15e4",
   "metadata": {
    "pycharm": {
     "name": "#%%\n"
    }
   },
   "outputs": [],
   "source": [
    "consumer = Consumer({'bootstrap.servers': '0.0.0.0:9092',\n",
    "                     'group.id': 'practicumgroup',\n",
    "                     'auto.offset.reset': 'earliest',\n",
    "                     'enable.auto.commit': False})\n",
    "consumer.subscribe(['json_topic_with_value'])\n",
    "\n",
    "start_time = time.time()\n",
    "seconds = 30\n",
    "\n",
    "while True:\n",
    "    current_time = time.time()\n",
    "    elapsed_time = current_time - start_time\n",
    "    if elapsed_time > seconds:\n",
    "        break\n",
    "        \n",
    "    msg = consumer.poll(1.0)\n",
    "    if msg is None:\n",
    "        continue\n",
    "    if msg.error():\n",
    "        print(f'Consumer error: {msg.error()}')\n",
    "        continue\n",
    "    print(f'Received message: {msg.value().decode(\"utf-8\")}')\n",
    "\n",
    "consumer.close()"
   ]
  },
  {
   "cell_type": "markdown",
   "id": "6d81998b",
   "metadata": {
    "pycharm": {
     "name": "#%% md\n"
    }
   },
   "source": [
    "### Чтение данных из топика с ключом<a id=\"fifthSecond\"></a> "
   ]
  },
  {
   "cell_type": "code",
   "execution_count": null,
   "id": "23960e96",
   "metadata": {
    "pycharm": {
     "name": "#%%\n"
    }
   },
   "outputs": [],
   "source": [
    "consumer = Consumer({'bootstrap.servers': '0.0.0.0:9092',\n",
    "                     'group.id': 'practicumgroup',\n",
    "                     'auto.offset.reset': 'earliest',\n",
    "                     'enable.auto.commit': False})\n",
    "consumer.subscribe(['json_topic_with_key_value'])\n",
    "\n",
    "start_time = time.time()\n",
    "seconds = 30\n",
    "\n",
    "while True:\n",
    "    current_time = time.time()\n",
    "    elapsed_time = current_time - start_time\n",
    "    if elapsed_time > seconds:\n",
    "        break\n",
    "        \n",
    "    msg = consumer.poll(1.0)\n",
    "    if msg is None:\n",
    "        continue\n",
    "    if msg.error():\n",
    "        print(f'Consumer error: {msg.error()}')\n",
    "        continue\n",
    "    print(f'Received key: {msg.key().decode(\"utf-8\")}. Received message: {msg.value().decode(\"utf-8\")}')\n",
    "\n",
    "consumer.close()"
   ]
  },
  {
   "cell_type": "markdown",
   "id": "4fa04312",
   "metadata": {
    "pycharm": {
     "name": "#%% md\n"
    }
   },
   "source": [
    "---\n",
    "## Работа с Kafka в Avro формате<a id=\"sixth\"></a> \n",
    "---"
   ]
  },
  {
   "cell_type": "markdown",
   "id": "1ec1cc13",
   "metadata": {
    "pycharm": {
     "name": "#%% md\n"
    }
   },
   "source": [
    "Воспользуемся автосозданием топика"
   ]
  },
  {
   "cell_type": "markdown",
   "id": "d42f76b0",
   "metadata": {
    "pycharm": {
     "name": "#%% md\n"
    }
   },
   "source": [
    "###  Запись данных в топик в формате avro без ключа<a id=\"sixthFirst\"></a> "
   ]
  },
  {
   "cell_type": "code",
   "execution_count": null,
   "id": "c0a3f38f",
   "metadata": {
    "pycharm": {
     "name": "#%%\n"
    }
   },
   "outputs": [],
   "source": [
    "value_schema_str = \"\"\"\n",
    "{\n",
    "   \"namespace\": \"my.test\",\n",
    "   \"name\": \"value\",\n",
    "   \"type\": \"record\",\n",
    "   \"fields\" : [\n",
    "     {\n",
    "       \"name\" : \"name\",\n",
    "       \"type\" : \"string\"\n",
    "     }\n",
    "   ]\n",
    "}\n",
    "\"\"\"\n",
    "\n",
    "value_schema = avro.loads(value_schema_str)\n",
    "value = {'name': 'Value'}\n",
    "\n",
    "avro_producer = AvroProducer({\n",
    "    'bootstrap.servers': '0.0.0.0:9092',\n",
    "    'on_delivery': delivery_report,\n",
    "    'schema.registry.url': 'http://0.0.0.0:8081'\n",
    "    }, default_value_schema=value_schema)\n",
    "\n",
    "avro_producer.produce(topic='avro_topic_with_value', value=value)\n",
    "avro_producer.flush()"
   ]
  },
  {
   "cell_type": "markdown",
   "id": "5449f869",
   "metadata": {
    "pycharm": {
     "name": "#%% md\n"
    }
   },
   "source": [
    "###  Запись данных в топик в формате avro c ключом<a id=\"sixthSecond\"></a> "
   ]
  },
  {
   "cell_type": "code",
   "execution_count": null,
   "id": "8ce31d3e",
   "metadata": {
    "pycharm": {
     "name": "#%%\n"
    }
   },
   "outputs": [],
   "source": [
    "value_schema_str = \"\"\"\n",
    "{\n",
    "   \"namespace\": \"my.test\",\n",
    "   \"name\": \"value\",\n",
    "   \"type\": \"record\",\n",
    "   \"fields\" : [\n",
    "     {\n",
    "       \"name\" : \"name\",\n",
    "       \"type\" : \"string\"\n",
    "     }\n",
    "   ]\n",
    "}\n",
    "\"\"\"\n",
    "\n",
    "key_schema_str = \"\"\"\n",
    "{\n",
    "   \"namespace\": \"my.test\",\n",
    "   \"name\": \"key\",\n",
    "   \"type\": \"record\",\n",
    "   \"fields\" : [\n",
    "     {\n",
    "       \"name\" : \"name\",\n",
    "       \"type\" : \"string\"\n",
    "     }\n",
    "   ]\n",
    "}\n",
    "\"\"\"\n",
    "\n",
    "value_schema = avro.loads(value_schema_str)\n",
    "key_schema = avro.loads(key_schema_str)\n",
    "value = {'name': 'Value'}\n",
    "key = {'name': 'Key'}\n",
    "\n",
    "avro_producer = AvroProducer({\n",
    "    'bootstrap.servers': '0.0.0.0:9092',\n",
    "    'on_delivery': delivery_report,\n",
    "    'schema.registry.url': 'http://0.0.0.0:8081'\n",
    "    }, default_key_schema=key_schema, default_value_schema=value_schema)\n",
    "\n",
    "avro_producer.produce(topic='avro_topic_with_key_and_value', value=value, key=key)\n",
    "avro_producer.flush()"
   ]
  },
  {
   "cell_type": "markdown",
   "id": "aa2ffc93",
   "metadata": {
    "pycharm": {
     "name": "#%% md\n"
    }
   },
   "source": [
    "###  Чтение данных из топика в формате avro без ключа<a id=\"sixthThird\"></a> "
   ]
  },
  {
   "cell_type": "code",
   "execution_count": null,
   "id": "94d7f4b5",
   "metadata": {
    "pycharm": {
     "name": "#%%\n"
    }
   },
   "outputs": [],
   "source": [
    "avro_consumer = AvroConsumer({\n",
    "    'bootstrap.servers': '0.0.0.0:9092',\n",
    "    'group.id': 'practicumgroup',\n",
    "    'auto.offset.reset': 'earliest',\n",
    "    'enable.auto.commit': False,\n",
    "    'schema.registry.url': 'http://0.0.0.0:8081'})\n",
    "\n",
    "avro_consumer.subscribe(['avro_topic_with_value'])\n",
    "\n",
    "start_time = time.time()\n",
    "seconds = 30\n",
    "\n",
    "while True:\n",
    "    current_time = time.time()\n",
    "    elapsed_time = current_time - start_time\n",
    "    if elapsed_time > seconds:\n",
    "        break\n",
    "    \n",
    "    try:\n",
    "        msg = avro_consumer.poll(1.0)\n",
    "    except SerializerError as se:\n",
    "        print(f'Message deserialization failed for {msg}: {se}')\n",
    "        break\n",
    "\n",
    "    if msg is None:\n",
    "        continue\n",
    "\n",
    "    if msg.error():\n",
    "        print(f'AvroConsumer error: {msg.error()}')\n",
    "        continue\n",
    "\n",
    "    print(f'Received message: {msg.value()}')\n",
    "\n",
    "avro_consumer.close()"
   ]
  },
  {
   "cell_type": "markdown",
   "id": "236d3592",
   "metadata": {
    "pycharm": {
     "name": "#%% md\n"
    }
   },
   "source": [
    "###  Чтение данных из топика в формате avro c ключом<a id=\"sixthFourth\"></a> "
   ]
  },
  {
   "cell_type": "code",
   "execution_count": null,
   "id": "d4afeeef",
   "metadata": {
    "pycharm": {
     "name": "#%%\n"
    }
   },
   "outputs": [],
   "source": [
    "avro_consumer = AvroConsumer({\n",
    "    'bootstrap.servers': '0.0.0.0:9092',\n",
    "    'group.id': 'practicumgroup',\n",
    "    'auto.offset.reset': 'earliest',\n",
    "    'enable.auto.commit': False,\n",
    "    'schema.registry.url': 'http://0.0.0.0:8081'})\n",
    "\n",
    "avro_consumer.subscribe(['avro_topic_with_key_and_value'])\n",
    "\n",
    "start_time = time.time()\n",
    "seconds = 30\n",
    "\n",
    "while True:\n",
    "    current_time = time.time()\n",
    "    elapsed_time = current_time - start_time\n",
    "    if elapsed_time > seconds:\n",
    "        break\n",
    "    \n",
    "    try:\n",
    "        msg = avro_consumer.poll(1.0)\n",
    "    except SerializerError as se:\n",
    "        print(f'Message deserialization failed for {msg}: {se}')\n",
    "        break\n",
    "\n",
    "    if msg is None:\n",
    "        continue\n",
    "\n",
    "    if msg.error():\n",
    "        print(f'AvroConsumer error: {msg.error()}')\n",
    "        continue\n",
    "\n",
    "    print(f'Received key: {msg.key()}. Received message: {msg.value()}')\n",
    "\n",
    "avro_consumer.close()"
   ]
  }
 ],
 "metadata": {
  "kernelspec": {
   "display_name": "Python 3 (ipykernel)",
   "language": "python",
   "name": "python3"
  },
  "language_info": {
   "codemirror_mode": {
    "name": "ipython",
    "version": 3
   },
   "file_extension": ".py",
   "mimetype": "text/x-python",
   "name": "python",
   "nbconvert_exporter": "python",
   "pygments_lexer": "ipython3",
   "version": "3.8.9"
  }
 },
 "nbformat": 4,
 "nbformat_minor": 5
}